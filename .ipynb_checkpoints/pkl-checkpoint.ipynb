{
 "cells": [
  {
   "cell_type": "code",
   "execution_count": 1,
   "metadata": {},
   "outputs": [],
   "source": [
    "import pandas as pd\n",
    "from config.sConstants import SConstants"
   ]
  },
  {
   "cell_type": "code",
   "execution_count": 2,
   "metadata": {},
   "outputs": [],
   "source": [
    "inputFile = SConstants.pkl.source\n",
    "outputFile = SConstants.pkl.destination"
   ]
  },
  {
   "cell_type": "code",
   "execution_count": 34,
   "metadata": {},
   "outputs": [],
   "source": [
    "# sp.dumpNewCommentsIntoDB()\n",
    "from py import SDataSource\n",
    "from config.sConstants import SConstants\n",
    "\n",
    "# dateBetween = [SConstants.date.start, SConstants.date.end]\n",
    "# SDataSource.getListOfCommentsFromPkl(dateBetween)\n"
   ]
  },
  {
   "cell_type": "code",
   "execution_count": 43,
   "metadata": {},
   "outputs": [],
   "source": [
    "f1 = 'pkl/android_commens_till_27_02_19.pkl'\n",
    "f2 = 'pkl/dgIndia_android_24April2019.pkl'\n",
    "f3 = 'pkl/dgIndia_android_till_24April2019.pkl'"
   ]
  },
  {
   "cell_type": "code",
   "execution_count": 50,
   "metadata": {},
   "outputs": [],
   "source": [
    "def mergeTwoPkl(dataFile, toAdd):\n",
    "    import pandas as pd\n",
    "    import numpy as np\n",
    "    from py import SDataSource\n",
    "\n",
    "    old_df = SDataSource.getListOfCommentsFromPkl([], fromFile=dataFile)\n",
    "    new_df = SDataSource.getListOfCommentsFromPkl([], fromFile=toAdd)\n",
    "    \n",
    "    print('shape of old file is: ', old_df.shape)\n",
    "    print('shape of new file is: ', new_df.shape)\n",
    "    maxId = old_df['id'].max()\n",
    "    maxDate = old_df['formatedDate'].max()\n",
    "    print('maxID in old file: ',maxId)\n",
    "    print('max date in old file: ',maxDate)\n",
    "    \n",
    "    new_df = new_df[new_df['formatedDate'] > maxDate]\n",
    "    if 'id' in new_df:\n",
    "        new_df.drop('id', axis=1, inplace=True) \n",
    "    new_df.insert(0, 'id', range(maxId, maxId + len(new_df)))\n",
    "    \n",
    "    new_df = old_df.append(new_df, sort=False)\n",
    "    print('new maxId is: ', new_df['id'].max())\n",
    "    print('new max date is: ', new_df['formatedDate'].max())\n",
    "    print('shape of new file: ', new_df.shape)\n",
    "    return new_df"
   ]
  },
  {
   "cell_type": "code",
   "execution_count": 51,
   "metadata": {},
   "outputs": [
    {
     "name": "stdout",
     "output_type": "stream",
     "text": [
      "Input comments from file: [pkl/android_commens_till_27_02_19.pkl]\n",
      "Between dates:  []\n",
      "Input comments from file: [pkl/dgIndia_android_24April2019.pkl]\n",
      "Between dates:  []\n",
      "shape of old file is:  (15960, 6)\n",
      "shape of new file is:  (15080, 5)\n",
      "maxID in old file:  15959\n",
      "max date in old file:  2019-02-28 00:00:00\n",
      "new maxId is:  20386\n",
      "new max date is:  2019-04-24 00:00:00\n",
      "shape of new file:  (20388, 6)\n"
     ]
    },
    {
     "name": "stderr",
     "output_type": "stream",
     "text": [
      "/home/nawaz/.virtualenvs/AWSComp/lib/python3.5/site-packages/pandas/core/frame.py:6211: FutureWarning: Sorting because non-concatenation axis is not aligned. A future version\n",
      "of pandas will change to not sort by default.\n",
      "\n",
      "To accept the future behavior, pass 'sort=False'.\n",
      "\n",
      "To retain the current behavior and silence the warning, pass 'sort=True'.\n",
      "\n",
      "  sort=sort)\n"
     ]
    }
   ],
   "source": [
    "df = mergeTwoPkl(f1, f2)"
   ]
  },
  {
   "cell_type": "code",
   "execution_count": 44,
   "metadata": {},
   "outputs": [],
   "source": [
    "df.to_pickle(f3)"
   ]
  },
  {
   "cell_type": "code",
   "execution_count": 45,
   "metadata": {},
   "outputs": [
    {
     "data": {
      "text/plain": [
       "(4428, 6)"
      ]
     },
     "execution_count": 45,
     "metadata": {},
     "output_type": "execute_result"
    }
   ],
   "source": [
    "df.shape"
   ]
  },
  {
   "cell_type": "code",
   "execution_count": null,
   "metadata": {},
   "outputs": [],
   "source": []
  },
  {
   "cell_type": "code",
   "execution_count": null,
   "metadata": {},
   "outputs": [],
   "source": []
  },
  {
   "cell_type": "code",
   "execution_count": null,
   "metadata": {},
   "outputs": [],
   "source": []
  }
 ],
 "metadata": {
  "kernelspec": {
   "display_name": "AWSComp",
   "language": "python",
   "name": "awscomp"
  },
  "language_info": {
   "codemirror_mode": {
    "name": "ipython",
    "version": 3
   },
   "file_extension": ".py",
   "mimetype": "text/x-python",
   "name": "python",
   "nbconvert_exporter": "python",
   "pygments_lexer": "ipython3",
   "version": "3.5.2"
  }
 },
 "nbformat": 4,
 "nbformat_minor": 2
}

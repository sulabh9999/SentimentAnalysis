{
 "cells": [
  {
   "cell_type": "markdown",
   "metadata": {},
   "source": [
    "# [Topic Modeling](https://towardsdatascience.com/topic-modeling-and-latent-dirichlet-allocation-in-python-9bf156893c24)"
   ]
  },
  {
   "cell_type": "code",
   "execution_count": 1,
   "metadata": {},
   "outputs": [
    {
     "data": {
      "text/plain": [
       "'\\npantree bank tags: https://www.ling.upenn.edu/courses/Fall_2003/ling001/penn_treebank_pos.html\\nstandford source: https://nlp.stanford.edu/software/CRF-NER.shtml\\nstandford online text tree generater: http://nlp.stanford.edu:8080/parser/index.jsp\\n'"
      ]
     },
     "execution_count": 1,
     "metadata": {},
     "output_type": "execute_result"
    }
   ],
   "source": [
    "\n",
    "from pprint import pprint\n",
    "import numpy as np\n",
    "np.random.seed(2018)\n",
    "import nltk\n",
    "\n",
    "# reload only imported modules before run\n",
    "# https://ipython.org/ipython-doc/3/config/extensions/autoreload.html\n",
    "%load_ext autoreload\n",
    "%autoreload 2\n",
    "\n",
    "'''\n",
    "pantree bank tags: https://www.ling.upenn.edu/courses/Fall_2003/ling001/penn_treebank_pos.html\n",
    "standford source: https://nlp.stanford.edu/software/CRF-NER.shtml\n",
    "standford online text tree generater: http://nlp.stanford.edu:8080/parser/index.jsp\n",
    "'''"
   ]
  },
  {
   "cell_type": "markdown",
   "metadata": {},
   "source": [
    "### constants"
   ]
  },
  {
   "cell_type": "code",
   "execution_count": 2,
   "metadata": {},
   "outputs": [],
   "source": [
    "start_date = '01-11-2018' #  09-Sep-2018 \n",
    "end_date = '30-12-2018' # 01-Oct-2018"
   ]
  },
  {
   "cell_type": "markdown",
   "metadata": {},
   "source": [
    "### We will perform the following steps:\n",
    "\n",
    "#### 1. Tokenization: \n",
    "Split the text into sentences and the sentences into words. Lowercase the words and remove punctuation."
   ]
  },
  {
   "cell_type": "code",
   "execution_count": 3,
   "metadata": {},
   "outputs": [],
   "source": [
    "# def tokenize(text):\n",
    "#     return gensim.utils.simple_preprocess(text)"
   ]
  },
  {
   "cell_type": "markdown",
   "metadata": {},
   "source": [
    "#### 2. Remove small words:\n",
    "Words that have fewer than 3 characters are removed."
   ]
  },
  {
   "cell_type": "code",
   "execution_count": 4,
   "metadata": {},
   "outputs": [],
   "source": [
    "# def isShortWord(token):\n",
    "#     return len(token) < 3"
   ]
  },
  {
   "cell_type": "markdown",
   "metadata": {},
   "source": [
    "#### 3. Remove stopwords:\n",
    "All stopwords are removed."
   ]
  },
  {
   "cell_type": "code",
   "execution_count": 5,
   "metadata": {},
   "outputs": [],
   "source": [
    "# def isStopWord(token):\n",
    "#     return token in gensim.parsing.preprocessing.STOPWORDS"
   ]
  },
  {
   "cell_type": "markdown",
   "metadata": {},
   "source": [
    "#### 4. lemmatized +  Stemming:\n",
    "Words are lemmatized — words in third person are changed to first person and verbs in past and future tenses are changed into present.\n",
    "\n",
    "Words are stemmed — words are reduced to their root form."
   ]
  },
  {
   "cell_type": "code",
   "execution_count": 6,
   "metadata": {},
   "outputs": [],
   "source": [
    "# from nltk.corpus import wordnet as wn\n",
    "# from nltk import pos_tag, word_tokenize\n",
    "# from nltk.stem.porter import *\n",
    "# from textblob import TextBlob\n",
    "\n",
    "\n",
    "# def lemmatize_stemming(token):\n",
    "#     stemmer = PorterStemmer() #gensim.parsing.stem_text(tokenize) #\n",
    "#     for word, tag in pos_tag(word_tokenize(token)):\n",
    "#         wntag = tag[0].lower()\n",
    "#         wntag = wntag if wntag in ['a', 'r', 'n', 'v'] else None\n",
    "#         lemma = WordNetLemmatizer().lemmatize(word, wntag) if wntag else word\n",
    "#         return TextBlob(lemma).words[0].singularize()\n",
    "#     return ''"
   ]
  },
  {
   "cell_type": "markdown",
   "metadata": {},
   "source": [
    "#### 5. Replace Emojis:"
   ]
  },
  {
   "cell_type": "code",
   "execution_count": 7,
   "metadata": {},
   "outputs": [],
   "source": [
    "# ## get emoji characters file path\n",
    "# def getEmojis():\n",
    "#     from dataSource import getEmojis\n",
    "#     comments_file_path = getDataSourcePathFor(emoji_path)\n",
    "#     return getEmojis(comments_file_path)#.head()"
   ]
  },
  {
   "cell_type": "code",
   "execution_count": 8,
   "metadata": {},
   "outputs": [],
   "source": [
    "# def hasEmojicon(token):\n",
    "    \n",
    "# def replaceEmojicons(token, emojies):\n",
    "#     pass\n",
    "    "
   ]
  },
  {
   "cell_type": "markdown",
   "metadata": {},
   "source": [
    "## Data Source"
   ]
  },
  {
   "cell_type": "code",
   "execution_count": 9,
   "metadata": {},
   "outputs": [],
   "source": [
    "# def getNounList(sentence='', tokens = []):\n",
    "#     from nltk import word_tokenize, pos_tag\n",
    "#     if len(tokens) > 0:    \n",
    "#         nouns = [token for token, pos in pos_tag(tokens) if pos.startswith('NN')]\n",
    "#         return nouns\n",
    "#     else:\n",
    "#         nouns = [token for token, pos in pos_tag(word_tokenize(sentence)) if pos.startswith('NN')]\n",
    "#         return nouns"
   ]
  },
  {
   "cell_type": "code",
   "execution_count": 10,
   "metadata": {},
   "outputs": [],
   "source": [
    "# text = 'I Have done reviewing, Will be seeing by them'\n",
    "# print(preprocess(text))"
   ]
  },
  {
   "cell_type": "code",
   "execution_count": 11,
   "metadata": {},
   "outputs": [],
   "source": [
    "# key is file storage path\n",
    "# def getDataSourcePathFor(keyForFilePath):\n",
    "#     import json\n",
    "#     import os\n",
    "    \n",
    "#     config_file_path = os.environ[virtual_env] + '/config.json'\n",
    "\n",
    "#     with open(config_file_path) as f:\n",
    "#         config = json.load(f)\n",
    "#         if keyForFilePath in config:# ['comments_path', 'output_path']\n",
    "#             return config[keyForFilePath] \n",
    "#     return None"
   ]
  },
  {
   "cell_type": "code",
   "execution_count": 12,
   "metadata": {},
   "outputs": [],
   "source": [
    "# ## get list of comments from stored input csv file\n",
    "# import dataSource \n",
    "\n",
    "# def getListOfComments():\n",
    "#     ### This is to get csv rows between given dates\n",
    "#     comments_file_path = getDataSourcePathFor(comments_path)\n",
    "#     commentsList = getComments(comments_file_path, start_date, end_date) #['comments'] \n",
    "#     commentsList = commentsList.sort_values(by='ratings', ascending=True)['comments'] \n",
    "#     print('Total number of comments: %s between %s and %s' % (len(commentsList), start_date, end_date))\n",
    "#     return commentsList"
   ]
  },
  {
   "cell_type": "markdown",
   "metadata": {},
   "source": [
    "### Text processing"
   ]
  },
  {
   "cell_type": "code",
   "execution_count": 13,
   "metadata": {},
   "outputs": [],
   "source": [
    "# import re\n",
    "\n",
    "# def filterWord(token):\n",
    "#     if not (isStopWord(token) or isShortWord(token)):\n",
    "#         lemmaWord = lemmatize_stemming(token)\n",
    "#         if not isShortWord(lemmaWord):\n",
    "#             return (\"\".join(re.findall(\"[a-zA-Z]+\", lemmaWord)).lower())\n",
    "#     return None \n",
    "    \n",
    "# def filters(sentence):\n",
    "# #     print('..given comments:', sentence)\n",
    "#     result = []\n",
    "#     #nouns = getNounList(sentence) # fetch only Nouns\n",
    "#     for token in tokenize(sentence):#nouns: ###tokenize(text):\n",
    "#         result.append(filterWord(token))\n",
    "#     return result\n",
    "\n",
    "# def filterWords(tokens):\n",
    "#     return list(filter(lambda token: filterWord(token), tokens))"
   ]
  },
  {
   "cell_type": "code",
   "execution_count": 14,
   "metadata": {},
   "outputs": [],
   "source": [
    "# def preprocessCommentDocument(document):\n",
    "#     return list(map(lambda sentence: filters(sentence), document))"
   ]
  },
  {
   "cell_type": "markdown",
   "metadata": {},
   "source": [
    "### Word Cloud"
   ]
  },
  {
   "cell_type": "code",
   "execution_count": 15,
   "metadata": {},
   "outputs": [],
   "source": [
    "from wordCloud import showWordCloud\n",
    "def showCloud(topicCollection):\n",
    "    showWordCloud(topicCollection) "
   ]
  },
  {
   "cell_type": "markdown",
   "metadata": {},
   "source": [
    "### Bag of Words on the Data set"
   ]
  },
  {
   "cell_type": "code",
   "execution_count": 16,
   "metadata": {},
   "outputs": [],
   "source": [
    "def bow(processed_docs):\n",
    "    dictionary = gensim.corpora.Dictionary(processed_docs)\n",
    "    bow_corpus = [dictionary.doc2bow(doc) for doc in processed_docs]\n",
    "    return bow_corpus"
   ]
  },
  {
   "cell_type": "markdown",
   "metadata": {},
   "source": [
    "### Sentiment"
   ]
  },
  {
   "cell_type": "code",
   "execution_count": 17,
   "metadata": {},
   "outputs": [],
   "source": [
    "from getSentiment import getSentiment\n",
    "\n",
    "def getSentFromCommentList(commentList):\n",
    "    sentimentList = []\n",
    "    for sentence in commentList:\n",
    "        sentiment = getSentiment(sentence)\n",
    "        sentimentList.append(sentiment)\n",
    "    return sentimentList\n",
    "\n",
    "\n",
    "def isNegative(sentiment):\n",
    "    return sentiment > 0.5\n",
    "\n",
    "\n",
    "def tokenDictWithPosNegSentiment(sentimentList, document):\n",
    "    sentDict = {}\n",
    "    size = range(len(document))\n",
    "    \n",
    "    for i in size:\n",
    "        for token in document[i]:\n",
    "            v = (0, 0, 0) # (neg, pos, freq)\n",
    "            if token in sentDict:\n",
    "                v = sentDict[token]\n",
    "                \n",
    "            if isNegative(sentimentList[i]):\n",
    "                v = (v[0]+1, v[1], v[2]+1)\n",
    "            else:\n",
    "                v = (v[0], v[1]+1, v[2]+1)\n",
    "            sentDict[token] = v\n",
    "    sentDict.pop('', None)\n",
    "    return sentDict"
   ]
  },
  {
   "cell_type": "markdown",
   "metadata": {},
   "source": [
    "### Main()"
   ]
  },
  {
   "cell_type": "code",
   "execution_count": 97,
   "metadata": {},
   "outputs": [],
   "source": [
    "import SDataSource\n",
    "import SConstants\n",
    "from SWordList import SWordList\n",
    "from sUtility import SUtility\n",
    "from sPreprocessor import SPreprocessor\n",
    "\n",
    "\n",
    "sutility = SUtility()\n",
    "spreprocessor = SPreprocessor()"
   ]
  },
  {
   "cell_type": "code",
   "execution_count": 100,
   "metadata": {
    "scrolled": true
   },
   "outputs": [
    {
     "name": "stdout",
     "output_type": "stream",
     "text": [
      "Total number of comments: 972 between 01-11-2018 and 30-12-2018\n"
     ]
    }
   ],
   "source": [
    "# SPreprocessor.resolveDependancy(trieCommon)\n",
    "dateBetween = [start_date, end_date]\n",
    "commentsDocument = SDataSource.getListOfComments(dateBetween).head(500)\n",
    "\n",
    "# document preprocessing, cleaning, filtering, replacement, spliting into multiple senetnces from one\n",
    "processed_doc = []\n",
    "for sentence in commentsDocument:\n",
    "    for each in spreprocessor.docCleaning(sentence):\n",
    "        processed_doc.append(each)\n"
   ]
  },
  {
   "cell_type": "code",
   "execution_count": 101,
   "metadata": {},
   "outputs": [],
   "source": [
    "def makeDict(sentence):\n",
    "    t = spreprocessor.parseToTokens(trieTopic, sentence)\n",
    "    r = spreprocessor.parseToTokens(trieNReason, sentence)\n",
    "#     print(sentence)\n",
    "#     print('topic is:', t)\n",
    "#     print('reasons are:', r)\n",
    "    sutility.dump(t, r)"
   ]
  },
  {
   "cell_type": "code",
   "execution_count": 102,
   "metadata": {},
   "outputs": [
    {
     "name": "stdout",
     "output_type": "stream",
     "text": [
      "..SWordList constructor called \n",
      "..SWordList constructor called \n",
      "..SWordList constructor called \n"
     ]
    }
   ],
   "source": [
    "wordList_file = SDataSource.getDataSourcePathFor(SConstants.wordFile_path)\n",
    "trieCommon = SWordList(wordList_file)\n",
    "\n",
    "topic_file = SDataSource.getDataSourcePathFor(SConstants.topic_path)\n",
    "trieTopic = SWordList(topic_file)\n",
    "\n",
    "n_reason_file = SDataSource.getDataSourcePathFor(SConstants.n_reason_path)\n",
    "trieNReason = SWordList(n_reason_file)"
   ]
  },
  {
   "cell_type": "code",
   "execution_count": 103,
   "metadata": {},
   "outputs": [],
   "source": [
    "for each in processed_doc:\n",
    "    makeDict(each)"
   ]
  },
  {
   "cell_type": "code",
   "execution_count": 104,
   "metadata": {},
   "outputs": [
    {
     "name": "stdout",
     "output_type": "stream",
     "text": [
      "[('app', 293), ('account', 102), ('login', 99), ('debit card', 61), ('upi', 43), ('version', 22), ('customer care', 16), ('atm', 14), ('kyc', 13), ('customer service', 9), ('look', 7), ('debit cards', 6), ('balance', 5), ('speed', 5), ('signup', 4), ('internet', 4), ('biometric', 4), ('offers', 3), ('charge', 2), ('international transactions', 2), ('postal code', 2), ('deals and offers', 1), ('another bank', 1), ('back option', 1)]\n",
      "---------------------------------\n",
      "topic:  app\n",
      "[('open', 14), ('opening', 10), ('every time', 8), ('crashing', 8), ('bad', 5), ('popup', 5), ('reset', 4), ('change', 4), ('something went wrong', 3), ('sucks', 3), ('stopped', 3), ('crashes', 2), ('buggy', 2), ('broke', 2), ('screen', 2), ('stuck', 2), ('service', 2), ('deposite', 1), ('forcing', 1), ('transfer', 1), ('incorrect', 1), ('fix it', 1), ('worst experience', 1)]\n",
      "topic:  account\n",
      "[('open', 14), ('opening', 10), ('bad', 6), ('service', 6), ('transfer', 5), ('deducted', 3), ('inactive', 3), ('screen', 3), ('closed', 2), ('wrongly', 2), ('add amount', 2), ('dormant', 2), ('deposite', 1), ('stopped', 1), ('popup', 1), ('reset', 1), ('fix it', 1), ('change', 1)]\n",
      "topic:  login\n",
      "[('reset', 5), ('every time', 4), ('resetting', 3), ('bad', 2), ('service', 2), ('server issue', 2), ('incorrect', 2), ('change', 2), ('crashes', 1), ('something wrong', 1), ('popup', 1), ('screen', 1), ('crashing', 1), ('open', 1), ('something is wrong', 1)]\n",
      "topic:  debit card\n",
      "[('popup', 3), ('forcing', 2), ('service', 2), ('change', 2), ('incorrect', 1), ('bad', 1), ('transfer', 1)]\n",
      "topic:  upi\n",
      "[('every time', 5), ('inactive', 2), ('add amount', 2), ('transfer', 2), ('opening', 1), ('screen', 1), ('stuck', 1), ('change', 1), ('closed', 1), ('popup', 1)]\n",
      "topic:  version\n",
      "[('sucks', 2), ('open', 2), ('crashing', 2), ('stopped', 1)]\n",
      "topic:  customer care\n",
      "[('service', 2), ('bad', 1), ('open', 1)]\n",
      "topic:  atm\n",
      "[('incorrect', 1), ('service', 1)]\n",
      "topic:  kyc\n",
      "[('opening', 2), ('popup', 2)]\n",
      "topic:  customer service\n",
      "[('service', 9), ('worst experience', 2)]\n",
      "topic:  look\n",
      "[('sucks', 1), ('crashing', 1), ('change', 1)]\n",
      "topic:  debit cards\n",
      "[]\n",
      "topic:  balance\n",
      "[('closed', 1)]\n",
      "topic:  speed\n",
      "[]\n",
      "topic:  signup\n",
      "[]\n",
      "topic:  internet\n",
      "[]\n",
      "topic:  biometric\n",
      "[('bad', 1), ('opening', 1)]\n",
      "topic:  offers\n",
      "[('opening', 1)]\n",
      "topic:  charge\n",
      "[('service', 2)]\n",
      "topic:  international transactions\n",
      "[]\n",
      "topic:  postal code\n",
      "[('change', 2)]\n",
      "topic:  deals and offers\n",
      "[]\n",
      "topic:  another bank\n",
      "[]\n",
      "topic:  back option\n",
      "[('sucks', 1), ('change', 1)]\n"
     ]
    }
   ],
   "source": [
    "sutility.showTopicCounts()\n",
    "print('---------------------------------')\n",
    "sutility.showReasonDict()"
   ]
  },
  {
   "cell_type": "code",
   "execution_count": null,
   "metadata": {},
   "outputs": [],
   "source": []
  },
  {
   "cell_type": "code",
   "execution_count": 48,
   "metadata": {},
   "outputs": [],
   "source": [
    "sutility.showTopicCounts()\n",
    "# sentList = commentsDocument.map(getSentiment)"
   ]
  },
  {
   "cell_type": "code",
   "execution_count": 82,
   "metadata": {},
   "outputs": [
    {
     "name": "stdout",
     "output_type": "stream",
     "text": [
      "i am not able to add amount from another upi acoount or also not able to transfer from another banks account it shows me benificary account is inactive or major problem not setup a upi id\n",
      "['add', 'upi', 'transfer', 'another banks', 'account', 'benificary', 'inactive', 'problem']\n",
      "\n",
      "Now i am facing another problem..i can't login don't know why solve the problem as soon as possible\n",
      "['facing', 'problem', 'login', 'soon']\n",
      "\n",
      "The lastest update broke the app.\n",
      "['update', 'app']\n",
      "\n",
      "Kya yr debit card se funds load nai kar sakte isme...koi kaam ka nai hai ye bank fir\n",
      "['debit', 'load', 'bank']\n",
      "\n",
      "Sir app is not opening and ifsc of most of the bank don't reflect. it was my favorite app but not now\n",
      "['app', 'bank']\n",
      "\n",
      "Hating your Services. Your Technical issues were never ending & Highly absence of Technological advances. Now, required to Stop your Services immediately. Not qualified for Asia Best Bank where as must be qualified for Asia Worst Bank. Let's enjoy the Worst Bank Tag.\n",
      "['technical', 'required', 'best', 'bank', 'worst']\n",
      "\n",
      "I have been trying to get KYC done since one month ,but no agent is calling even after submitting\n",
      "['kyc', 'month', 'agent']\n",
      "\n",
      "Worst experience & Customer service disappointed\n",
      "['worst', 'experience', 'customer', 'service']\n",
      "\n",
      "Very slow app.\n",
      "['slow', 'app']\n",
      "\n",
      "First of all give the best service don't give 2 minutes account opening just one tap I given request for account opening last 2 months back till no response bad service ...... Don't waste time\n",
      "['best', 'service', 'account', 'request', 'response', 'bad', 'time']\n",
      "\n",
      "My account was dormant for few months. Now when I activated it. Applied new ATM card. But unable to add transfer any funds. But still I am not able to fund my account. Pls activate it. I would like to use and give a 5 star review. Pls activate it.\n",
      "['account', 'new', 'atm', 'unable', 'add', 'transfer']\n",
      "\n",
      "It's not showing that how to apply debit card in this app not there option\n",
      "['debit', 'app', 'option']\n",
      "\n",
      "Poor server issue i was trying from last 1 hr to login and i am not able to do i have tried on 4g and on my home wifi also...\n",
      "['poor', 'server', 'issue', 'login']\n",
      "\n",
      "app update not able to login....getting problems ....feeling bad\n",
      "['app', 'update', 'login', 'bad']\n",
      "\n",
      "I open application but its showing something wrong please check network and secure connectivity\n",
      "['open', 'network']\n",
      "\n",
      "Customer service not support\n",
      "['customer', 'service', 'support']\n",
      "\n",
      "Crashes my mobile all the time and unable to reset my password with correct credentials but says not matched.... dont download.\n",
      "['mobile', 'time', 'unable', 'reset', 'password', 'download']\n",
      "\n",
      "Fund account when if use net banking option they display only half screen Log id Bas SACHIN TENDULKAR brand ambestor hai isliye bharosa hai\n",
      "['account', 'net banking', 'option']\n",
      "\n",
      "Worst experience, cant login even after resetting my password for almost 10 times.\n",
      "['worst', 'experience', 'login', 'password']\n",
      "\n",
      "Such a worst app always showing pop up menu for update kyc here in Ahmedabad dont have branch but it irritate everytime of app opening\n",
      "['worst', 'app', 'popup', 'menu', 'update', 'kyc', 'branch', 'everytime']\n",
      "\n",
      "After recent update not able to login also... it kerps rotating but doesn't login\n",
      "['update', 'login']\n",
      "\n",
      "Yet UPI problem is not fixed. It's been almost a month. And DBS is a online banking!\n",
      "['upi', 'problem', 'month']\n",
      "\n",
      "This is not opening account\n",
      "['account']\n",
      "\n",
      "No agent contacted me for KYC verification\n",
      "['agent', 'contacted', 'kyc', 'verification']\n",
      "\n",
      "I am unable set my new ATM pin\n",
      "['unable', 'new', 'atm', 'pin']\n",
      "\n",
      "I'm uninstalling this app since no option to add money from debit cards.. also new Version of this app sucks ..!!\n",
      "['app', 'option', 'add', 'money', 'debit', 'new', 'version', 'sucks']\n",
      "\n",
      "Why it asking update your app...... I need older version so kindly provide old version..... in all app its depend we need to update means then only we can update right. But here at any cost we need update other wise it will not open older version.\n",
      "['update', 'app', 'version', 'open']\n",
      "\n",
      "It had unique feature fund from debit card... But the recent updates removed that feature... So it is common like other bank... So i suggest to add the feature back\n",
      "['feature', 'debit', 'bank', 'add']\n",
      "\n",
      "I need help... The worst thing I feel there is no customer care no... I forgot my username and password and now not able to reset it... After putting my personal information the app does nothing.. Please help\n",
      "['worst', 'customer', 'forgot', 'username', 'password', 'reset', 'app']\n",
      "\n",
      "I like digibank and using this app for almost a year or 2. But recently I am facing some strange login issue whenever I login it treats the device as new device and asks me to complete the registration process. I have done it for more than 5 times and now I am fed up of this. This could be the device id issue as I am on Android 8.0\n",
      "['digibank', 'app', 'facing', 'login', 'issue', 'device', 'new', 'registration', 'process', 'android']\n",
      "\n",
      "WORST OF THE WORST APP. IT'S CRASHING MY WHOLE PHONE WHENEVER I OPEN THE APP AND IT'S RESTARTING EVERY TIME. I WOULD LIKE TO GIVE -100000 STARS FOR THIS APP.\n",
      "['worst', 'app', 'crashing', 'phone', 'open', 'restarting', 'time']\n",
      "\n",
      "Everytime I login its shows now get your visa paywave debit card & service not available in my area. The page stuck on that. I am not able to close it. How could I use the app. Worst Experience\n",
      "['everytime', 'login', 'debit', 'service', 'available', 'stuck', 'close', 'app', 'worst', 'experience']\n",
      "\n",
      "After the new update not able to sign in\n",
      "['new', 'update']\n",
      "\n",
      "App is not opening Showing error msg \"something went wrong, please try again with secure network\n",
      "['app', 'error', 'something went wrong', 'try', 'network']\n",
      "\n",
      "I am citizen of india and not allowed to vote why our system is so weak . Being a teacher living in hyderabad for past 45 plus years i am not able to vote . This is shame for nation .\n",
      "[]\n",
      "\n",
      "The latest update is throwing a popup DBS India Stopped..Try resolving the issue\n",
      "['update', 'popup', 'try', 'issue']\n",
      "\n",
      "Unable to login to app gives something is weong error. Pathetic app. Can you fix it asap.\n",
      "['unable', 'login', 'app', 'error', 'pathetic', 'fix']\n",
      "\n",
      "I am not able to do upi transaction on this ac why????? I can't set upi.......\n",
      "['upi']\n",
      "\n",
      "Every time when i logged in showing every time to create new upi handle why i hv created it already though it is showing to create new upi again and again\n",
      "['time', 'create', 'new', 'upi']\n",
      "\n",
      "The worst mobile banking app I have ever seen.\n",
      "['worst', 'mobile', 'app']\n",
      "\n",
      "I was referred by one of my friend to open an account, after downloading the app when I put my credentials, i am not able to sumbit the application to complete account opening formalities which is very bad on the first time. Later if i am using virtual assistance it is of no use because don't get proper answers to the desired queries asked. Very bad experience before completing the account formalities and now to login as well\n",
      "['friend', 'open', 'account', 'app', 'bad', 'time', 'proper', 'experience', 'login']\n",
      "\n",
      "Why are you forcing to take debit card...it says pls change postal code to get debit card...I don't want atm pls allow me to my account\n",
      "['debit', 'change', 'atm', 'account']\n",
      "\n",
      "Dont install card shipping service not available in rajkot gujrat 👎\n",
      "['install', 'service', 'available']\n",
      "\n",
      "I am not able to use debit card for international transactions. I am not able add my card to paypal.\n",
      "['debit', 'add']\n",
      "\n",
      "Unable to sign up for last 1hour. I never use my contact details with dbs and it's reflecting already exist details.\n",
      "['unable', 'signup']\n",
      "\n",
      "Very buggy after the new nov 2 update.\n",
      "['buggy', 'new', 'update']\n",
      "\n",
      "Not allowing to login, showing error \"Something went wrong. Please try again with secure network\". I tried all possible ways, ie cleared data, uninstalled and reinstalled. But no luck. Please anyone help, need to do urgent transaction, money got stuck in it. 😡😞\n",
      "['login', 'error', 'something went wrong', 'try', 'network', 'urgent', 'money', 'stuck']\n",
      "\n",
      "Making fraud and and wrongly deducted my Rs 1500 in my account..\n",
      "['fraud', 'deducted', 'account']\n",
      "\n",
      "My first transaction is successful but second transaction not success it's bad app\n",
      "['bad', 'app']\n",
      "\n",
      "Everytime i open the app, it say register ur new device .. Plz fix it\n",
      "['everytime', 'open', 'app', 'register', 'new', 'device', 'fix']\n",
      "\n",
      "Really sad to hear that, i have to visit the branch in other city i.e 10 hours journey from hyderabad....for just activating account for which i already submitted biometric at the time of account opening\n",
      "['sad', 'branch', 'account', 'biometric', 'time']\n",
      "\n",
      "Its 3rd class app the worst app i ever seen\n",
      "['app', 'worst']\n",
      "\n",
      "App is not working..\n",
      "['app']\n",
      "\n",
      "Whats the wrong with this app , i cant login to my account it says you have forgot your password even when i enter correct password.....and when i try to reset my password it says you cant change your password ..... how can u login to my account 🙄🙄\n",
      "['app', 'login', 'account', 'forgot', 'password', 'try', 'reset', 'change']\n",
      "\n",
      "Time to say Goodbye to Digi .... Removing add debit card option only loose customer nothing else, all digital banks are using add fund through debit card and all time upi is not possible at all, surely people will switch to 811 kotak. Digi must return the feature.\n",
      "['time', 'add', 'debit', 'option', 'loose', 'customer', 'digital', 'upi', 'feature']\n",
      "\n",
      "Wouldn't let me login. Keeps telling 'Oops something went wrong,try again from a safer network'.\n",
      "['login', 'something went wrong', 'try', 'network']\n",
      "\n",
      "App was working good until today ..App is crashing after the update .please resolve it.\n",
      "['app', 'good', 'crashing', 'update', 'resolve']\n",
      "\n",
      "No star, New version we don't have option to credit the wallet with debit card and credit card, if so what is use of this,all will not have net banking and upi option,can u explain what is use of this, why we need to use your app.\n",
      "['new', 'version', 'option', 'credit', 'wallet', 'debit', 'net banking', 'upi', 'app']\n",
      "\n",
      "Opened my account and i forgot my password now i am trying to change password i am receiving otp but cant see next screen to enter or capture otp on mobile and on web it is sowing there is error we are trying to fix it when i tried changing password its major bug and developers are not doing anything useless bank app i cant deposite money even after opening an account\n",
      "['account', 'forgot', 'password', 'change', 'otp', 'mobile', 'error', 'fix', 'bug', 'useless', 'bank', 'app', 'money']\n",
      "\n",
      "Deals and offers are showing. Worst case\n",
      "['deals', 'offers', 'worst']\n",
      "\n",
      "I can't log in they said password is incorrect but when i try to reset password i can't .it's stuck there. then i change password from website but on app still i can't log in .\n",
      "['login', 'password', 'incorrect', 'try', 'reset', 'stuck', 'change', 'app']\n",
      "\n",
      "It is not user friendly. Login problem and money loading problem\n",
      "['user friendly', 'login', 'problem', 'money', 'loading']\n",
      "\n",
      "Unable to change category in transaction and the app look is very boring please update it very very slow compared to other banking apps sometimes the back option not working the app really sucks\n",
      "['unable', 'change', 'app', 'update', 'slow', 'back option', 'option', 'sucks']\n",
      "\n",
      "It is not opening. I don't know why. Always gives an error of technical issues. Even I don't get messages debit or credit.\n",
      "['error', 'technical', 'messages', 'debit', 'credit']\n",
      "\n",
      "Why i can't cancel the yellow page now get your visa paywave debit card. I can't proceed also because It is not available in my state....and i dont want a physical card. so why that page not cancelling.\n",
      "['debit', 'available', 'state']\n",
      "\n",
      "I don't like update again and again\n",
      "['update']\n",
      "\n",
      "Worst banking app used ever\n",
      "['worst', 'app']\n",
      "\n",
      "Vpa not fixed\n",
      "['vpa']\n",
      "\n",
      "When I'm resetting my accounts password it shows me something went wrong please solve this problem\n",
      "['password', 'something went wrong', 'problem']\n",
      "\n",
      "After updating the app it askede to login but i forgot my user id.I clicked on forgot user id option.It asked me to enter my mobile number and email id.I gave my number email id and I clicked on 'next'.But it is not responding.It is not going to next screen.How can I get my user id??\n",
      "['app', 'login', 'forgot', 'option', 'mobile', 'email', 'responding']\n",
      "\n",
      "Worst experience i ever had\n",
      "['worst', 'experience']\n",
      "\n",
      "West\n",
      "[]\n",
      "\n",
      "Highly unstable application\n",
      "['unstable']\n",
      "\n",
      "i have done a upi transaction and they showed that it is successful but amount did not credited to beneficiary and also the didn't replied of my mail..... totally frustrating app very slow\n",
      "['upi', 'beneficiary', 'app', 'slow']\n",
      "\n",
      "money add option not available from debit card in new update, externally worst experience, not best use of new app\n",
      "['money', 'add', 'option', 'available', 'debit', 'new', 'update', 'worst', 'experience', 'best', 'app']\n",
      "\n",
      "Unable to login,always ask to set new password\n",
      "['unable', 'login', 'new', 'password']\n",
      "\n",
      "App asks for UPI although I've already done it twice. It doesn't let you by pass the UPI registration page to go the main screen.\n",
      "['app', 'upi', 'registration']\n",
      "\n",
      "I done lot of transactions and lways have handsome balance amount in account alsk have great credit score but never get option for personal loan\n",
      "['balance', 'account', 'great', 'credit', 'option']\n",
      "\n",
      "App is again and again taking me to the UPI VPA page, as soon as I login, even after creation of UPI address, the app again asks for UPI details on next login and I am unable to access anything on the app, I have updated the app as well, hoping it will resolve the issue, but no luck, please provide an update to fix the issue!!!\n",
      "['app', 'upi', 'vpa', 'soon', 'login', 'address', 'unable', 'resolve', 'issue', 'update', 'fix']\n",
      "\n",
      "Very very slow app..Worst for banking. Please consider customer feedback & do the needful\n",
      "['slow', 'app', 'worst', 'customer']\n",
      "\n",
      "The current update on this app is Disgusting the developer has added a pop up ad when you log in takes away most of the time keeps hanging. This has become a big headache to handle especially when you depend on this bank.\n",
      "['update', 'app', 'disgusting', 'popup', 'login', 'time', 'hanging', 'bank']\n",
      "\n",
      "You call yourself asias safest bank and all that nonsence but your app is probably not just asia but worlds slowest and most sluggish app... The whole experience of online banking becomes pathetic with this rediculous app...very dissappointed with the way you people have build this app. Super slow, sluggish and unstable. Very bad experience. Please do something.\n",
      "['bank', 'app', 'slowest', 'experience', 'pathetic', 'way', 'slow', 'unstable', 'bad']\n",
      "\n",
      "First is app is very low ,lots of time I updated app but till now app is slow.when i registered in Digibank there was a mistake in my name spelling for my aadhar card spelling was wrong but lots of time I tried replace my name spelling but I could not do it.so bad experience .Last things always tell 7.5 % interest rate but totally fake ,interest rate if you invest for 2 year then highest 7% not 7.5 % ,totally fake.\n",
      "['app', 'time', 'slow', 'digibank', 'mistake', 'aadhar', 'bad', 'experience', 'rate']\n",
      "\n",
      "After an update its working worse i m trying to change my contact number from 3 days but every time there occurs an error605\n",
      "['update', 'change', 'time', 'error']\n",
      "\n",
      "Worst\n",
      "['worst']\n",
      "\n",
      "Bad experience none come for my biometric confirmation. The app contains full of bugs and caches , app damage phone data . Redmi phone didn't support this app.\n",
      "['bad', 'experience', 'biometric', 'app', 'phone', 'support']\n",
      "\n",
      "Pathetic app ever used... Why DBS is not working on improving this app. Frustrated now... Closing my account with dbs shortly....\n",
      "['pathetic', 'app', 'account']\n",
      "\n",
      "Worst experience after update app\n",
      "['worst', 'experience', 'update', 'app']\n",
      "\n",
      "I sent many email but i have not received any reply from your side.. Reply me asap. Otherwise get ready for negative feedbacks :)\n",
      "['email']\n",
      "\n",
      "i dont know y made like this, that app can operate from same sim in and same phone .. taken all the permission .. even if we disagree they wont allow to register.. :(\n",
      "['app', 'sim', 'phone', 'register']\n",
      "\n",
      "The app is too slow and freezes frequently the day it came on play store. Not a single time you people bothered to update the app to improve its smoothness. The app is developed in its worst way and instead you are taking around 50Mb for this app.\n",
      "['app', 'slow', 'store', 'time', 'update', 'improve', 'worst', 'way']\n",
      "\n",
      "One of the worst app in play store,pls play dont allow to upload such kind of fake app Thanks\n",
      "['worst', 'app', 'store']\n",
      "\n",
      "You call yourself asias safest bank and all that nonsence but your app is probably not just asia but worlds slowest and most sluggish app... The whole experience of online banking becomes pathetic with this rediculous app...very dissappointed with the way you people have build this app. Super slow, sluggish and unstable. Very bad experience. Please do something.\n",
      "['bank', 'app', 'slowest', 'experience', 'pathetic', 'way', 'slow', 'unstable', 'bad']\n",
      "\n",
      "Pathetic app.... I have my old phone nd old number but it is still considering it new.... and i'm unable to login the app... failing again and again I wish to withdrawl my all amount and uninstall the app now\n",
      "['pathetic', 'app', 'phone', 'new', 'unable', 'login', 'uninstall']\n",
      "\n",
      "I am always getting error message to order debit card once I logged in. I am unable to close this window. I am unable to do any banking because of this huge error. This app need to be improved.\n",
      "['error', 'message', 'debit', 'unable', 'close', 'huge', 'app']\n",
      "\n",
      "Can't use this and load money using debit card\n",
      "['load', 'money', 'debit']\n",
      "\n",
      "Money not added from debit card fully faltu Because other bank se payment digi bank per transfer karake other account pe transfer karange to pahile hi banks se other bank Ko money transfer karenge to digi bank ka isme ky Kam hai? Sagar kisika netbanking chalu nahi hai to usake account se money kase add karenge?....so... funny and fully faltu......\n",
      "['money', 'debit', 'bank', 'transfer', 'account', 'add']\n",
      "\n",
      "THE UPI linking is not working....how i supposed to be add money through upi...plzzz fixxx it ASAP\n",
      "['upi', 'add', 'money']\n",
      "\n",
      "No option to add money from Card in new updation , This new version is not improved, some previous options are removed in this new version. Really sad......\n",
      "['option', 'add', 'money', 'new', 'version', 'sad']\n",
      "\n",
      "Very unpleasant experience. I'm using one phone for this app but every time at login this app it shows login with a new phone and OTP based verification . Even my UPI page missing for some time after login. Digi bank is a app based bank with such errors ,I m going to deactivate my account.\n",
      "['experience', 'phone', 'app', 'time', 'login', 'new', 'otp', 'verification', 'upi', 'bank', 'account']\n",
      "\n"
     ]
    }
   ],
   "source": [
    "l = list(commentsDocument)\n",
    "p = list(processed_doc)\n",
    "\n",
    "length = len(l)\n",
    "\n",
    "for i in range(length):\n",
    "    print(l[i])\n",
    "    print(p[i])\n",
    "    print()"
   ]
  },
  {
   "cell_type": "code",
   "execution_count": null,
   "metadata": {},
   "outputs": [],
   "source": [
    "dump = list(zip(commentsDocument, processed_doc))\n",
    "length = len(dump)\n",
    "for i in range(length):\n",
    "    print(dump[i][0])\n",
    "    print(dump[i][1])\n",
    "    print(sentList.iloc[i])\n",
    "    print()"
   ]
  },
  {
   "cell_type": "code",
   "execution_count": null,
   "metadata": {},
   "outputs": [],
   "source": [
    "dictionary = gensim.corpora.Dictionary(processed_doc)\n",
    "# dictionary.filter_extremes(no_below=5, no_above=0.5, keep_n=100000)\n",
    "bow_corpus = [dictionary.doc2bow(doc) for doc in processed_doc]"
   ]
  },
  {
   "cell_type": "code",
   "execution_count": null,
   "metadata": {},
   "outputs": [],
   "source": [
    "from gensim import corpora, models\n",
    "corpus_tfidf = models.TfidfModel(bow_corpus)[bow_corpus]"
   ]
  },
  {
   "cell_type": "code",
   "execution_count": null,
   "metadata": {
    "scrolled": true
   },
   "outputs": [],
   "source": [
    "lda_model_tfidf = gensim.models.LdaMulticore(corpus_tfidf, num_topics=5, id2word=dictionary, passes=2, workers=2)"
   ]
  },
  {
   "cell_type": "code",
   "execution_count": null,
   "metadata": {},
   "outputs": [],
   "source": [
    "# indexFor = 5\n",
    "# print('..COMMENT :', commentsDocument[indexFor])\n",
    "# print('\\n..CORPOS :', processed_doc[indexFor])\n",
    "# # print('\\n..BOW:', bow_corpus[indexFor])\n",
    "# for index, score in sorted(lda_model_tfidf[bow_corpus[indexFor]], key=lambda tup: -1*tup[1]):\n",
    "#     print(\"\\nScore: {}\\t \\nTopic: {}\".format(score, lda_model_tfidf.print_topic(index, 5)))"
   ]
  },
  {
   "cell_type": "code",
   "execution_count": null,
   "metadata": {},
   "outputs": [],
   "source": [
    "topics = lda_model_tfidf.print_topics(num_words=4)\n",
    "for topic in topics:\n",
    "    print(topic)"
   ]
  },
  {
   "cell_type": "code",
   "execution_count": null,
   "metadata": {},
   "outputs": [],
   "source": [
    "# print(processed_doc.values)"
   ]
  },
  {
   "cell_type": "code",
   "execution_count": null,
   "metadata": {},
   "outputs": [],
   "source": [
    "l = tokenDictWithPosNegSentiment(list(sentList), list(processed_doc))\n"
   ]
  },
  {
   "cell_type": "code",
   "execution_count": null,
   "metadata": {},
   "outputs": [],
   "source": [
    "# print(sortedMostPos(l))"
   ]
  },
  {
   "cell_type": "code",
   "execution_count": null,
   "metadata": {},
   "outputs": [],
   "source": [
    "from showBarGraph import *\n",
    "# show positive bar graph\n",
    "showBarCharForSentiment(sortedMostPos(l), pos=True)"
   ]
  },
  {
   "cell_type": "code",
   "execution_count": null,
   "metadata": {},
   "outputs": [],
   "source": [
    "# print(sortedMostNeg(l))\n",
    "# show positive bar graph\n",
    "showBarCharForSentiment(sortedMostNeg(l), pos=False)"
   ]
  },
  {
   "cell_type": "code",
   "execution_count": null,
   "metadata": {},
   "outputs": [],
   "source": [
    "showPiChart(sortedMostFreq(l))"
   ]
  },
  {
   "cell_type": "code",
   "execution_count": null,
   "metadata": {},
   "outputs": [],
   "source": [
    "# showTempBarChart()"
   ]
  },
  {
   "cell_type": "code",
   "execution_count": null,
   "metadata": {},
   "outputs": [],
   "source": []
  }
 ],
 "metadata": {
  "kernelspec": {
   "display_name": "AWSComp",
   "language": "python",
   "name": "awscomp"
  },
  "language_info": {
   "codemirror_mode": {
    "name": "ipython",
    "version": 3
   },
   "file_extension": ".py",
   "mimetype": "text/x-python",
   "name": "python",
   "nbconvert_exporter": "python",
   "pygments_lexer": "ipython3",
   "version": "3.5.2"
  }
 },
 "nbformat": 4,
 "nbformat_minor": 2
}

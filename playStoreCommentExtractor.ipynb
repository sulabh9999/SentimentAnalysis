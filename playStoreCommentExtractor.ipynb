{
 "cells": [
  {
   "cell_type": "code",
   "execution_count": 24,
   "metadata": {},
   "outputs": [
    {
     "name": "stdout",
     "output_type": "stream",
     "text": [
      "The autoreload extension is already loaded. To reload it, use:\n",
      "  %reload_ext autoreload\n"
     ]
    }
   ],
   "source": [
    "import time\n",
    "from bs4 import BeautifulSoup\n",
    "import sys, io\n",
    "from selenium import webdriver\n",
    "from selenium.webdriver.support.ui import WebDriverWait\n",
    "from selenium.webdriver.common.proxy import *\n",
    "\n",
    "\n",
    "product = 'com.dbs.in.digitalbank'\n",
    "driver = webdriver.Firefox(executable_path='/usr/local/bin/geckodriver')\n",
    "timeOut = 30 # seconds\n",
    "\n",
    "# driver.set_page_load_timeout(timeOut)\n",
    "# wait = WebDriverWait( driver, timeOut)\n",
    "driver.implicitly_wait(timeOut) \n",
    "url = 'https://play.google.com/store/apps/details?id=' + product + '&hl=en_IN&showAllReviews=true'\n",
    "driver.get(url)\n",
    "page = driver.page_source\n",
    "soup_expatistan = BeautifulSoup(page, \"html.parser\")\n",
    "\n",
    "%load_ext autoreload\n",
    "%autoreload 2"
   ]
  },
  {
   "cell_type": "code",
   "execution_count": 25,
   "metadata": {},
   "outputs": [
    {
     "name": "stdout",
     "output_type": "stream",
     "text": [
      "Total comments are:  79,921\n",
      "Raitings:  4.1\n"
     ]
    }
   ],
   "source": [
    "downloads = soup_expatistan.find('span', {'class': 'AYi5wd'}) \n",
    "print('Total comments are: ', downloads.text)\n",
    " \n",
    "ratingDiv = soup_expatistan.find('div', {'class': 'pf5lIe'}) \n",
    "\n",
    "import re\n",
    "text = str(ratingDiv.get_text)\n",
    "try:\n",
    "    found = re.search('Rated(.+?)stars out of five stars', text).group(1).strip()\n",
    "except AttributeError:\n",
    "    found = 'None' \n",
    "print('Raitings: ', found)"
   ]
  },
  {
   "cell_type": "code",
   "execution_count": 26,
   "metadata": {},
   "outputs": [],
   "source": [
    "# expatistan_table = soup_expatistan.find(\"h1\", class_=\"AHFaub\")\n",
    "# print(expatistan_table.string)"
   ]
  },
  {
   "cell_type": "code",
   "execution_count": 186,
   "metadata": {
    "scrolled": true
   },
   "outputs": [],
   "source": [
    "# no_of_reviews = 1000\n",
    "# ratings = soup_expatistan.find(\"span\", class_=\"EymY4b\")\n",
    "# print(ratings.text)"
   ]
  },
  {
   "cell_type": "code",
   "execution_count": 27,
   "metadata": {},
   "outputs": [],
   "source": [
    "# SCROLL_PAUSE_TIME = 2.0\n",
    "\n",
    "# # Get scroll height\n",
    "# last_height = driver.execute_script(\"return document.body.scrollHeight\")\n",
    "# count=0\n",
    "\n",
    "# while True:\n",
    "#     # Scroll down to bottom\n",
    "#     driver.execute_script(\"window.scrollTo(0, document.body.scrollHeight);\")\n",
    "\n",
    "#     # Wait to load page\n",
    "#     time.sleep(SCROLL_PAUSE_TIME)\n",
    "\n",
    "#     # Calculate new scroll height and compare with last scroll height\n",
    "# #     new_height = driver.execute_script(\"return document.body.scrollHeight\")\n",
    "#     if count == 4:\n",
    "#         try:\n",
    "#             show = driver.find_element_by_class_name('PFAhAf')\n",
    "#             show.click()\n",
    "#             count = 0\n",
    "#         except NoSuchElementException:\n",
    "#             print('got exception ', NoSuchElementException)\n",
    "#     else:\n",
    "#         count = count + 1\n",
    "    "
   ]
  },
  {
   "cell_type": "code",
   "execution_count": 1,
   "metadata": {},
   "outputs": [],
   "source": [
    "from selenium.common.exceptions import NoSuchElementException, WebDriverException, TimeoutException\n",
    "from IPython.display import display, clear_output\n",
    "\n",
    "\n",
    "\n",
    "requiredComments = 15000\n",
    "\n",
    "count = 0\n",
    "totalComments = 200\n",
    "while totalComments < requiredComments:\n",
    "    \n",
    "    driver.execute_script(\"window.scrollTo(0, document.body.scrollHeight);\")\n",
    "#     driver.execute_script(\"window.scrollTo(0, -10000);\")\n",
    "    \n",
    "    if count >= 4:\n",
    "        try:\n",
    "            show = driver.find_element_by_class_name('PFAhAf')\n",
    "            show.click()\n",
    "            totalComments = totalComments + 160\n",
    "            count = 0\n",
    "        except NoSuchElementException:\n",
    "            print('got exception ', NoSuchElementException)\n",
    "    else:\n",
    "        count = count + 1\n",
    "\n",
    "    time.sleep(1)\n",
    "    \n",
    "#     clear_output(wait=True)\n",
    "    print('Fetched comments: %d/%d' %(totalComments, requiredComments))\n",
    "    \n"
   ]
  },
  {
   "cell_type": "code",
   "execution_count": 29,
   "metadata": {},
   "outputs": [
    {
     "data": {
      "text/plain": [
       "'Total extrated comments are: 15079'"
      ]
     },
     "metadata": {},
     "output_type": "display_data"
    }
   ],
   "source": [
    "print('Trying to extract comments from driver, please wait for sometime...')\n",
    "\n",
    "xpath = \"/html/body/div[1]/div[5]/c-wiz/div/div[2]/div/div[1]/div/div/div[1]/div[2]\"\n",
    "div = driver.find_element_by_xpath(xpath).get_attribute(\"innerHTML\")\n",
    "soup = BeautifulSoup(div, 'html.parser')\n",
    "allCommentDiv = soup.find(\"div\", {\"jsname\": \"fk8dgd\"}).find_all(\"div\", {\"jscontroller\": \"H6eOGe\"})\n",
    "\n",
    "print('total comments are: ', len(allCommentDiv))\n",
    "\n",
    "info = []\n",
    "count = 0\n",
    "for each in allCommentDiv:\n",
    "    name = each.find('span', {'class': 'X43Kjb'})\n",
    "    ratings = len(each.find_all('div', {'class': 'vQHuPe'}))\n",
    "    date = each.find('span', {'class': 'p2TkOb'})\n",
    "    comment = each.find('span', {'jsname': 'bN97Pc'})\n",
    "    fillComment =  each.find('span', {'jsname': 'fbQN7e'})\n",
    "    if len(fillComment.text) > 0 :\n",
    "        comment = fillComment\n",
    "        \n",
    "    clear_output(wait=True)\n",
    "    display('Total extrated comments are: ' + str(count))\n",
    "    count = count + 1\n",
    "#     print('name: ', name.text)\n",
    "#     print('rating: ', ratings)\n",
    "#     print('date: ', date.text)\n",
    "#     print('comment: ', comment.text)\n",
    "    result = [name.text, date.text, comment.text, ratings]\n",
    "    info.append(result)\n",
    "    \n",
    "reverseList = reversed(info)"
   ]
  },
  {
   "cell_type": "code",
   "execution_count": 30,
   "metadata": {},
   "outputs": [
    {
     "name": "stdout",
     "output_type": "stream",
     "text": [
      "15080\n",
      "['AKHILESH SHARMA', '18 April 2019', 'ok', 5]\n"
     ]
    }
   ],
   "source": [
    "print(len(info))\n",
    "print(info[720])"
   ]
  },
  {
   "cell_type": "code",
   "execution_count": 31,
   "metadata": {},
   "outputs": [],
   "source": [
    "backup = info"
   ]
  },
  {
   "cell_type": "code",
   "execution_count": null,
   "metadata": {},
   "outputs": [],
   "source": []
  },
  {
   "cell_type": "code",
   "execution_count": 32,
   "metadata": {},
   "outputs": [],
   "source": [
    "import pandas as pd\n",
    "import numpy as np\n",
    "\n",
    "df = pd.DataFrame(data=np.array(info), columns=['name', 'date', 'comment', 'rating'])\n",
    "fileNameToStore = 'android_comments_jan_24April2019.pkl'\n",
    "df.to_pickle(fileNameToStore)\n",
    "b = pd.read_pickle(fileNameToStore)"
   ]
  },
  {
   "cell_type": "code",
   "execution_count": 18,
   "metadata": {},
   "outputs": [],
   "source": []
  },
  {
   "cell_type": "code",
   "execution_count": 19,
   "metadata": {},
   "outputs": [],
   "source": []
  },
  {
   "cell_type": "code",
   "execution_count": 36,
   "metadata": {},
   "outputs": [],
   "source": []
  },
  {
   "cell_type": "code",
   "execution_count": 42,
   "metadata": {},
   "outputs": [],
   "source": [
    "# merged_df = pd.concat([old_df, new_df], sort=True)\n",
    "# merged_df = pd.merge(old_df, new_df, on='datetime')"
   ]
  },
  {
   "cell_type": "code",
   "execution_count": 41,
   "metadata": {},
   "outputs": [],
   "source": []
  },
  {
   "cell_type": "code",
   "execution_count": null,
   "metadata": {},
   "outputs": [],
   "source": []
  },
  {
   "cell_type": "code",
   "execution_count": null,
   "metadata": {},
   "outputs": [],
   "source": []
  },
  {
   "cell_type": "code",
   "execution_count": null,
   "metadata": {},
   "outputs": [],
   "source": []
  }
 ],
 "metadata": {
  "kernelspec": {
   "display_name": "AWSComp",
   "language": "python",
   "name": "awscomp"
  },
  "language_info": {
   "codemirror_mode": {
    "name": "ipython",
    "version": 3
   },
   "file_extension": ".py",
   "mimetype": "text/x-python",
   "name": "python",
   "nbconvert_exporter": "python",
   "pygments_lexer": "ipython3",
   "version": "3.5.2"
  }
 },
 "nbformat": 4,
 "nbformat_minor": 2
}

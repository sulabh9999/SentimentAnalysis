{
 "cells": [
  {
   "cell_type": "code",
   "execution_count": 1,
   "metadata": {},
   "outputs": [],
   "source": [
    "import time\n",
    "from bs4 import BeautifulSoup\n",
    "import sys, io\n",
    "from selenium import webdriver\n",
    "from selenium.webdriver.support.ui import WebDriverWait\n",
    "from selenium.webdriver.common.proxy import *\n",
    "\n",
    "\n",
    "product = 'com.dbs.in.digitalbank'\n",
    "driver = webdriver.Firefox(executable_path='/usr/local/bin/geckodriver')\n",
    "\n",
    "# wait = WebDriverWait( driver, 10)\n",
    "url = 'https://play.google.com/store/apps/details?id=' + product + '&hl=en_IN&showAllReviews=true'\n",
    "driver.get(url)\n",
    "page = driver.page_source\n",
    "soup_expatistan = BeautifulSoup(page, \"html.parser\")\n",
    "\n",
    "%load_ext autoreload\n",
    "%autoreload 2"
   ]
  },
  {
   "cell_type": "code",
   "execution_count": 3,
   "metadata": {},
   "outputs": [
    {
     "name": "stdout",
     "output_type": "stream",
     "text": [
      "69,780\n",
      "4.0\n"
     ]
    }
   ],
   "source": [
    "downloads = soup_expatistan.find('span', {'class': 'AYi5wd'}) \n",
    "print(downloads.text)\n",
    "\n",
    "ratingDiv = soup_expatistan.find('div', {'class': 'pf5lIe'}) \n",
    "\n",
    "import re\n",
    "text = str(ratingDiv.get_text)\n",
    "try:\n",
    "    found = re.search('Rated(.+?)stars out of five stars', text).group(1).strip()\n",
    "except AttributeError:\n",
    "    found = 'None' \n",
    "print(found)"
   ]
  },
  {
   "cell_type": "code",
   "execution_count": 4,
   "metadata": {},
   "outputs": [],
   "source": [
    "# expatistan_table = soup_expatistan.find(\"h1\", class_=\"AHFaub\")\n",
    "# print(expatistan_table.string)"
   ]
  },
  {
   "cell_type": "code",
   "execution_count": 5,
   "metadata": {
    "scrolled": true
   },
   "outputs": [],
   "source": [
    "# no_of_reviews = 1000\n",
    "# ratings = soup_expatistan.find(\"span\", class_=\"EymY4b\")\n",
    "# print(ratings.text)"
   ]
  },
  {
   "cell_type": "code",
   "execution_count": 6,
   "metadata": {},
   "outputs": [],
   "source": [
    "# d1 = soup_expatistan.find(\"div\", {\"jsname\": \"fk8dgd\"})\n",
    "# print(d1)\n"
   ]
  },
  {
   "cell_type": "code",
   "execution_count": 70,
   "metadata": {},
   "outputs": [],
   "source": [
    "from selenium.common.exceptions import NoSuchElementException\n",
    "\n",
    "totalComments = 5000\n",
    "\n",
    "while totalComments > 0:\n",
    "     # Action scroll down\n",
    "    driver.execute_script(\"window.scrollTo(0, document.body.scrollHeight);\")\n",
    "    try:\n",
    "        show = driver.find_element_by_class_name('PFAhAf')\n",
    "        show.click()\n",
    "    except NoSuchElementException:\n",
    "        pass\n",
    "    \n",
    "    totalComments = totalComments - 40\n",
    "    time.sleep(2)\n"
   ]
  },
  {
   "cell_type": "code",
   "execution_count": 71,
   "metadata": {},
   "outputs": [
    {
     "name": "stdout",
     "output_type": "stream",
     "text": [
      "total comments are:  5080\n"
     ]
    }
   ],
   "source": [
    "xpath = \"/html/body/div[1]/div[4]/c-wiz/div/div[2]/div/div[1]/div/div/div[1]/div[2]\"\n",
    "div = driver.find_element_by_xpath(xpath).get_attribute(\"innerHTML\")\n",
    "soup = BeautifulSoup(div, 'html.parser')\n",
    "allCommentDiv = soup.find(\"div\", {\"jsname\": \"fk8dgd\"}).find_all(\"div\", {\"jscontroller\": \"H6eOGe\"})\n",
    "print('total comments are: ', len(allCommentDiv))\n",
    "\n",
    "info = []\n",
    "for each in allCommentDiv:\n",
    "    name = each.find('span', {'class': 'X43Kjb'})\n",
    "    ratings = len(each.find_all('div', {'class': 'vQHuPe'}))\n",
    "    date = each.find('span', {'class': 'p2TkOb'})\n",
    "    comment = each.find('span', {'jsname': 'bN97Pc'})\n",
    "    fillComment =  each.find('span', {'jsname': 'fbQN7e'})\n",
    "    if len(fillComment.text) > 0 :\n",
    "        comment = fillComment\n",
    "    \n",
    "#     print('name: ', name.text)\n",
    "#     print('rating: ', ratings)\n",
    "#     print('date: ', date.text)\n",
    "#     print('comment: ', comment.text)\n",
    "    result = [name.text, date.text, comment.text, ratings]\n",
    "    info.append(result)\n",
    "#     print('-----------------------------------')\n",
    "    "
   ]
  },
  {
   "cell_type": "code",
   "execution_count": 72,
   "metadata": {},
   "outputs": [
    {
     "name": "stdout",
     "output_type": "stream",
     "text": [
      "5080\n"
     ]
    }
   ],
   "source": [
    "print(len(info))"
   ]
  },
  {
   "cell_type": "code",
   "execution_count": 73,
   "metadata": {},
   "outputs": [
    {
     "name": "stdout",
     "output_type": "stream",
     "text": [
      "                             name              date  \\\n",
      "0                   A Google user  24 February 2019   \n",
      "1                      Siva Reddy  24 February 2019   \n",
      "2                   lokesh jangde  24 February 2019   \n",
      "3                    Ashoo Sachan  24 February 2019   \n",
      "4                    Rajiv Pandey  24 February 2019   \n",
      "5                    Hamid Shaikh  24 February 2019   \n",
      "6              suddhashil mukhuty  24 February 2019   \n",
      "7                    Hemant Desai  16 February 2019   \n",
      "8                      Vishal Rex  17 February 2019   \n",
      "9                   Aeshar Manzar  24 February 2019   \n",
      "10                  Aniket Jagtap  20 February 2019   \n",
      "11                  Madhu Badisha  18 February 2019   \n",
      "12                 Devesh Rastogi  24 February 2019   \n",
      "13    Krishna Chaitanya Cherukuri  16 February 2019   \n",
      "14                  kiran nookala  21 February 2019   \n",
      "15                  Sudhir Gosavi  22 February 2019   \n",
      "16                  Kiran kumar k  16 February 2019   \n",
      "17                    Rahul singh  21 February 2019   \n",
      "18                    Sayan Dutta  24 February 2019   \n",
      "19                      Shankar G  19 February 2019   \n",
      "20                  risabh sharma  23 February 2019   \n",
      "21                 Prantik Sarkar  23 February 2019   \n",
      "22                 Shashank Sathe  19 February 2019   \n",
      "23                    Kaushik Das  16 February 2019   \n",
      "24                 Sivakumar Gobi  19 February 2019   \n",
      "25                   Rahul Pandey  24 February 2019   \n",
      "26                   PkiraN PaTIL  19 February 2019   \n",
      "27                 Vaibhav Dodake  17 February 2019   \n",
      "28                  Sandeep Kumar  16 February 2019   \n",
      "29                    Raajkumar R  18 February 2019   \n",
      "...                           ...               ...   \n",
      "5050                A Google user  24 November 2018   \n",
      "5051                  Irfan Pahat  23 November 2018   \n",
      "5052                       Zara B   3 December 2018   \n",
      "5053               Dilkash Ansari  18 December 2018   \n",
      "5054               jamshed shekha  20 December 2018   \n",
      "5055                A Google user   22 January 2019   \n",
      "5056                   SUJOY PAUL   24 January 2019   \n",
      "5057                       Abhi G   28 January 2019   \n",
      "5058                Sharik Tanwar   26 January 2019   \n",
      "5059            pradheesh karthik   26 January 2019   \n",
      "5060                 vikas chaval   1 February 2019   \n",
      "5061                Shilpi Poddar   3 February 2019   \n",
      "5062                A Google user   6 February 2019   \n",
      "5063                subrata maity   8 February 2019   \n",
      "5064                     Satish P  14 February 2019   \n",
      "5065                 Hariom Yadav  20 February 2019   \n",
      "5066                   Amar Singh   20 January 2019   \n",
      "5067             Prathamesh Joshi   23 January 2019   \n",
      "5068                 Deepak Pawar   5 February 2019   \n",
      "5069                  rahul gupta  12 November 2018   \n",
      "5070                   Balaji Bee  13 November 2018   \n",
      "5071                A Google user  18 November 2018   \n",
      "5072                Pardeep Kumar  22 November 2018   \n",
      "5073                Pratik Kajale  26 November 2018   \n",
      "5074               IMTEYAZ ANSARI  29 November 2018   \n",
      "5075                A Google user  29 November 2018   \n",
      "5076                Benazir Begum   1 December 2018   \n",
      "5077                Gobinda Nayak   1 December 2018   \n",
      "5078                  Bhojaraj GR   4 December 2018   \n",
      "5079                Prience Varma   5 December 2018   \n",
      "\n",
      "                                                comment rating  \n",
      "0     I don't understand,how I contact to the Bank ,...      1  \n",
      "1     Thank you so much for your immediate and best ...      4  \n",
      "2     Amazing app. Yet the app is little bit slow bu...      5  \n",
      "3     Hi My Name is Anand Prakash.I Am using DigiBan...      5  \n",
      "4                Very smooth and easy to use interface.      4  \n",
      "5                                             nice bank      5  \n",
      "6                                             very good      5  \n",
      "7     This rating is purely for the app and not bank...      4  \n",
      "8     I have my dbs account which I cant login. I en...      1  \n",
      "9     Hey DBS, you can make your Mobile App better l...      2  \n",
      "10    this app has issue with PAN varification and t...      1  \n",
      "11    you have been saying that \"we are coming soon ...      1  \n",
      "12    It keeps registering the same device every few...      2  \n",
      "13    Good Concept, been using it for more than a ye...      3  \n",
      "14    lost my mobile and do not hold my mobile linke...      1  \n",
      "15    i am happy with the simplicity of this app. Bu...      3  \n",
      "16    worst app.. can't able to log in..updates are ...      1  \n",
      "17    This new version ask again abd again to login ...      5  \n",
      "18    now it is really annoying that every time i we...      1  \n",
      "19    why there is no response regarding digibucks e...      1  \n",
      "20    Isnt there any other way to open a savings acc...      1  \n",
      "21    The security is up to standard..the developers...      5  \n",
      "22    Application shows runtime system error and qui...      5  \n",
      "23    I am really in love with this bank, it was so ...      5  \n",
      "24    my app is not opening right now.. only a blank...      1  \n",
      "25    One of the best bank in india, can't imagine a...      5  \n",
      "26    nice eazy application gr8 banking service love...      5  \n",
      "27    This bank is comfortable more than we expect. ...      5  \n",
      "28    i forgot my user id and password iam past thre...      1  \n",
      "29    I'm signing up with the App. I've created an a...      5  \n",
      "...                                                 ...    ...  \n",
      "5050                                Bestest friend ever      5  \n",
      "5051                               Best app and banking      5  \n",
      "5052                              Very good transaction      5  \n",
      "5053                                      Very nice app      5  \n",
      "5054                                         good 0 fee      4  \n",
      "5055                                Good Banking system      5  \n",
      "5056                            Good Banking experience      5  \n",
      "5057                                      Over all nice      5  \n",
      "5058                                good for normal use      5  \n",
      "5059                       excellent banking experience      5  \n",
      "5060                          good to be a DBS customer      5  \n",
      "5061                   awesome experience with this dbs      5  \n",
      "5062                          User friendly application      5  \n",
      "5063                                        its so nice      5  \n",
      "5064                                      very good app      5  \n",
      "5065                                     very good bank      5  \n",
      "5066                      this bank is just amazing....      5  \n",
      "5067                          Extraordinary Experiance.      5  \n",
      "5068                                nice & good serivce      5  \n",
      "5069                                              Super      5  \n",
      "5070                                              Super      4  \n",
      "5071                                              Super      4  \n",
      "5072                                                Yes      5  \n",
      "5073                                                Avg      3  \n",
      "5074                                                Osm      5  \n",
      "5075                                                Gud      5  \n",
      "5076                                                Gud      3  \n",
      "5077                                             Thanks      5  \n",
      "5078                                              Super      4  \n",
      "5079                                                 Ok      5  \n",
      "\n",
      "[5080 rows x 4 columns]\n"
     ]
    }
   ],
   "source": [
    "import pandas as pd\n",
    "import numpy as np\n",
    "df = pd.DataFrame(data=np.array(info), columns=['name', 'date', 'comment', 'rating'])\n",
    "\n",
    "df.to_pickle('android_comment_data.pkl')\n",
    "b = pd.read_pickle('android_comment_data.pkl')\n",
    "print(b)"
   ]
  },
  {
   "cell_type": "code",
   "execution_count": 52,
   "metadata": {
    "scrolled": true
   },
   "outputs": [],
   "source": []
  },
  {
   "cell_type": "code",
   "execution_count": 68,
   "metadata": {},
   "outputs": [],
   "source": [
    "# import sys\n",
    "# from dbConfig import *\n",
    "# mydb = dbSQL()\n",
    "# # data = (\"sulabh shukla\", '2019-02-06', 'nice work it\\'s greate...', '3')\n",
    "# # mydb.insert(data)\n",
    "# for data in info:\n",
    "#     print(data)\n",
    "#     mydb.insert(data)\n",
    "# mydb.show()"
   ]
  },
  {
   "cell_type": "code",
   "execution_count": null,
   "metadata": {},
   "outputs": [],
   "source": []
  },
  {
   "cell_type": "code",
   "execution_count": 69,
   "metadata": {},
   "outputs": [],
   "source": [
    "s = 'I don\\'t understand,how I contact to the Bank , I reset my phone and than they ask me for OTP 1st time I enter wrong than 2nd time I enter carefully right OTP and than 3rd time also. Now from 2 weeks my account gives error account is temprory locked and where and whom should I contact I don\\'t understand , please help me'\n"
   ]
  },
  {
   "cell_type": "code",
   "execution_count": null,
   "metadata": {},
   "outputs": [],
   "source": []
  }
 ],
 "metadata": {
  "kernelspec": {
   "display_name": "AWSComp",
   "language": "python",
   "name": "awscomp"
  },
  "language_info": {
   "codemirror_mode": {
    "name": "ipython",
    "version": 3
   },
   "file_extension": ".py",
   "mimetype": "text/x-python",
   "name": "python",
   "nbconvert_exporter": "python",
   "pygments_lexer": "ipython3",
   "version": "3.5.2"
  }
 },
 "nbformat": 4,
 "nbformat_minor": 2
}
